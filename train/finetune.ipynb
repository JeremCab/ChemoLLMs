{
 "cells": [
  {
   "cell_type": "markdown",
   "id": "6cc17419",
   "metadata": {},
   "source": [
    "# Fine-Tuning ChemGPT"
   ]
  },
  {
   "cell_type": "markdown",
   "id": "5ab5fafe",
   "metadata": {},
   "source": [
    "## Librairies"
   ]
  },
  {
   "cell_type": "code",
   "execution_count": 1,
   "id": "17de1692",
   "metadata": {},
   "outputs": [],
   "source": [
    "# !pip install torch torchvision torchaudio\n",
    "# !pip install --upgrade \"transformers[torch]\" accelerate\n",
    "# !pip install transformers\n",
    "# !pip install datasets"
   ]
  },
  {
   "cell_type": "code",
   "execution_count": 2,
   "id": "7c43be5d",
   "metadata": {},
   "outputs": [],
   "source": [
    "# On local MacOS\n",
    "import os\n",
    "os.environ[\"KMP_DUPLICATE_LIB_OK\"] = \"TRUE\""
   ]
  },
  {
   "cell_type": "code",
   "execution_count": 3,
   "id": "d13f743c",
   "metadata": {},
   "outputs": [
    {
     "name": "stderr",
     "output_type": "stream",
     "text": [
      "/Users/jeremiecabessa/miniconda3/lib/python3.13/site-packages/tqdm/auto.py:21: TqdmWarning: IProgress not found. Please update jupyter and ipywidgets. See https://ipywidgets.readthedocs.io/en/stable/user_install.html\n",
      "  from .autonotebook import tqdm as notebook_tqdm\n"
     ]
    }
   ],
   "source": [
    "import torch\n",
    "from transformers import AutoTokenizer, AutoModelForCausalLM, Trainer, TrainingArguments, pipeline\n",
    "from datasets import load_dataset"
   ]
  },
  {
   "cell_type": "code",
   "execution_count": 4,
   "id": "b4a6bc65",
   "metadata": {},
   "outputs": [
    {
     "name": "stdout",
     "output_type": "stream",
     "text": [
      "Using device: mps\n"
     ]
    }
   ],
   "source": [
    "device = torch.device(\"mps\" if torch.backends.mps.is_available() else \"cpu\")\n",
    "print(\"Using device:\", device)"
   ]
  },
  {
   "cell_type": "markdown",
   "id": "aa2be7a5",
   "metadata": {},
   "source": [
    "## Fine-Tuning"
   ]
  },
  {
   "cell_type": "code",
   "execution_count": 5,
   "id": "d8715ffb",
   "metadata": {},
   "outputs": [
    {
     "data": {
      "text/plain": [
       "GPTNeoForCausalLM(\n",
       "  (transformer): GPTNeoModel(\n",
       "    (wte): Embedding(684, 128)\n",
       "    (wpe): Embedding(2048, 128)\n",
       "    (drop): Dropout(p=0.0, inplace=False)\n",
       "    (h): ModuleList(\n",
       "      (0-23): 24 x GPTNeoBlock(\n",
       "        (ln_1): LayerNorm((128,), eps=1e-05, elementwise_affine=True)\n",
       "        (attn): GPTNeoAttention(\n",
       "          (attention): GPTNeoSelfAttention(\n",
       "            (attn_dropout): Dropout(p=0.0, inplace=False)\n",
       "            (resid_dropout): Dropout(p=0.0, inplace=False)\n",
       "            (k_proj): Linear(in_features=128, out_features=128, bias=False)\n",
       "            (v_proj): Linear(in_features=128, out_features=128, bias=False)\n",
       "            (q_proj): Linear(in_features=128, out_features=128, bias=False)\n",
       "            (out_proj): Linear(in_features=128, out_features=128, bias=True)\n",
       "          )\n",
       "        )\n",
       "        (ln_2): LayerNorm((128,), eps=1e-05, elementwise_affine=True)\n",
       "        (mlp): GPTNeoMLP(\n",
       "          (c_fc): Linear(in_features=128, out_features=512, bias=True)\n",
       "          (c_proj): Linear(in_features=512, out_features=128, bias=True)\n",
       "          (act): NewGELUActivation()\n",
       "          (dropout): Dropout(p=0.0, inplace=False)\n",
       "        )\n",
       "      )\n",
       "    )\n",
       "    (ln_f): LayerNorm((128,), eps=1e-05, elementwise_affine=True)\n",
       "  )\n",
       "  (lm_head): Linear(in_features=128, out_features=684, bias=False)\n",
       ")"
      ]
     },
     "execution_count": 5,
     "metadata": {},
     "output_type": "execute_result"
    }
   ],
   "source": [
    "# Load pretrained ChemGPT (SELFIES version if available)\n",
    "model_name = \"ncfrey/ChemGPT-4.7M\" # Or smaller variant for testing\n",
    "\n",
    "tokenizer = AutoTokenizer.from_pretrained(model_name)\n",
    "tokenizer.add_special_tokens({'pad_token': '[PAD]'})\n",
    "\n",
    "model = AutoModelForCausalLM.from_pretrained(model_name)\n",
    "model.resize_token_embeddings(len(tokenizer))\n",
    "model.to(device)"
   ]
  },
  {
   "cell_type": "code",
   "execution_count": 6,
   "id": "8f1be8cc",
   "metadata": {},
   "outputs": [],
   "source": [
    "# Load dataset\n",
    "dataset = load_dataset(\"csv\", data_files=\"../dataset/toy_dataset.csv\")"
   ]
  },
  {
   "cell_type": "code",
   "execution_count": 7,
   "id": "28fe747f",
   "metadata": {},
   "outputs": [
    {
     "data": {
      "text/plain": [
       "{'selfies': '\\\\[C]\\\\[C]\\\\[C]\\\\[C]\\\\[O]\\\\[H]', 'solubility': 'medium'}"
      ]
     },
     "execution_count": 7,
     "metadata": {},
     "output_type": "execute_result"
    }
   ],
   "source": [
    "dataset[\"train\"][3]"
   ]
  },
  {
   "cell_type": "code",
   "execution_count": 8,
   "id": "d873d5e1",
   "metadata": {},
   "outputs": [],
   "source": [
    "# Preprocess: combine property + selfies\n",
    "def preprocess(examples):\n",
    "    sequences = [\n",
    "        f\"solubility={prop} [START] {s}\" \n",
    "        for s, prop in zip(examples[\"selfies\"], examples[\"solubility\"])\n",
    "    ]\n",
    "    \n",
    "    tokenized = tokenizer(\n",
    "        sequences,\n",
    "        padding=\"max_length\",    # pad all sequences to max_length\n",
    "        truncation=True,         # truncate longer sequences\n",
    "        max_length=64,           # or a length that fits your data\n",
    "    )\n",
    "    \n",
    "    # For causal LM, labels = input_ids\n",
    "    tokenized[\"labels\"] = tokenized[\"input_ids\"].copy()\n",
    "    \n",
    "    return tokenized\n",
    "\n",
    "tokenized = dataset.map(preprocess, batched=True, remove_columns=dataset[\"train\"].column_names)"
   ]
  },
  {
   "cell_type": "code",
   "execution_count": 9,
   "id": "c794c12d",
   "metadata": {},
   "outputs": [
    {
     "name": "stderr",
     "output_type": "stream",
     "text": [
      "/var/folders/jj/mflbhpsx5fn9czwyvl39hk_r0000gn/T/ipykernel_33037/713330729.py:13: FutureWarning: `tokenizer` is deprecated and will be removed in version 5.0.0 for `Trainer.__init__`. Use `processing_class` instead.\n",
      "  trainer = Trainer(\n",
      "The tokenizer has new PAD/BOS/EOS tokens that differ from the model config and generation config. The model config and generation config were aligned accordingly, being updated with the tokenizer's values. Updated tokens: {'eos_token_id': None, 'bos_token_id': None, 'pad_token_id': 1}.\n",
      "/Users/jeremiecabessa/miniconda3/lib/python3.13/site-packages/torch/utils/data/dataloader.py:684: UserWarning: 'pin_memory' argument is set as true but not supported on MPS now, then device pinned memory won't be used.\n",
      "  warnings.warn(warn_msg)\n"
     ]
    },
    {
     "data": {
      "text/html": [
       "\n",
       "    <div>\n",
       "      \n",
       "      <progress value='3' max='3' style='width:300px; height:20px; vertical-align: middle;'></progress>\n",
       "      [3/3 00:01, Epoch 3/3]\n",
       "    </div>\n",
       "    <table border=\"1\" class=\"dataframe\">\n",
       "  <thead>\n",
       " <tr style=\"text-align: left;\">\n",
       "      <th>Step</th>\n",
       "      <th>Training Loss</th>\n",
       "    </tr>\n",
       "  </thead>\n",
       "  <tbody>\n",
       "  </tbody>\n",
       "</table><p>"
      ],
      "text/plain": [
       "<IPython.core.display.HTML object>"
      ]
     },
     "metadata": {},
     "output_type": "display_data"
    },
    {
     "name": "stderr",
     "output_type": "stream",
     "text": [
      "/Users/jeremiecabessa/miniconda3/lib/python3.13/site-packages/transformers/modeling_utils.py:4034: UserWarning: Moving the following attributes in the config to the generation config: {'max_length': 512}. You are seeing this warning because you've set generation parameters in the model config, as opposed to in the generation config.\n",
      "  warnings.warn(\n",
      "/Users/jeremiecabessa/miniconda3/lib/python3.13/site-packages/torch/utils/data/dataloader.py:684: UserWarning: 'pin_memory' argument is set as true but not supported on MPS now, then device pinned memory won't be used.\n",
      "  warnings.warn(warn_msg)\n",
      "/Users/jeremiecabessa/miniconda3/lib/python3.13/site-packages/torch/utils/data/dataloader.py:684: UserWarning: 'pin_memory' argument is set as true but not supported on MPS now, then device pinned memory won't be used.\n",
      "  warnings.warn(warn_msg)\n"
     ]
    }
   ],
   "source": [
    "# Training setup\n",
    "training_args = TrainingArguments(\n",
    "    output_dir=\"./checkpoints\",\n",
    "    per_device_train_batch_size=2,\n",
    "    gradient_accumulation_steps=8,\n",
    "    learning_rate=5e-5,\n",
    "    num_train_epochs=3,\n",
    "    logging_dir=\"./logs\",\n",
    "    save_strategy=\"epoch\",\n",
    "    fp16=False,  # True if GPU supports, False for M1 Mac\n",
    ")\n",
    "\n",
    "trainer = Trainer(\n",
    "    model=model,\n",
    "    args=training_args,\n",
    "    train_dataset=tokenized[\"train\"],\n",
    "    tokenizer=tokenizer,\n",
    ")\n",
    "\n",
    "# Fine-tune\n",
    "trainer.train()\n",
    "\n",
    "# Save fine-tuned model\n",
    "trainer.save_model(\"./checkpoints\")"
   ]
  },
  {
   "cell_type": "code",
   "execution_count": 10,
   "id": "dece62b7",
   "metadata": {},
   "outputs": [],
   "source": [
    "# # Path to your fine-tuned model\n",
    "model_path = \"./checkpoints\"\n",
    "\n",
    "# # Load tokenizer and model\n",
    "tokenizer = AutoTokenizer.from_pretrained(model_path)\n",
    "\n",
    "model = AutoModelForCausalLM.from_pretrained(model_path)\n",
    "model.to(device)\n",
    "\n",
    "# Inference function\n",
    "def generate_molecule(solubility=\"high\", max_length=32, max_new_tokens=50,\n",
    "                      temperature=0.7, top_p=0.95, top_k=50):\n",
    "    \"\"\"\n",
    "    Generate a SELFIES string conditioned on solubility.\n",
    "    \n",
    "    Args:\n",
    "        solubility (str): property prompt, e.g., \"high\" or \"low\"\n",
    "        max_length (int): maximum length for tokenizing the prompt\n",
    "        max_new_tokens (int): number of tokens to generate\n",
    "        temperature (float): randomness for sampling\n",
    "        top_p (float): nucleus sampling\n",
    "        top_k (int): top-k sampling\n",
    "    Returns:\n",
    "        str: generated SELFIES string\n",
    "    \"\"\"\n",
    "    # Build prompt\n",
    "    prompt = f\"solubility={solubility} [START]\"\n",
    "\n",
    "    # Tokenize with padding and truncation\n",
    "    encoding = tokenizer(\n",
    "        prompt,\n",
    "        return_tensors=\"pt\",\n",
    "        truncation=True,\n",
    "        padding=\"max_length\",\n",
    "        max_length=max_length\n",
    "    )\n",
    "    \n",
    "    input_ids = encoding[\"input_ids\"].to(device)\n",
    "    attention_mask = encoding[\"attention_mask\"].to(device)\n",
    "    \n",
    "    # Generate new tokens\n",
    "    output_ids = model.generate(\n",
    "        input_ids=input_ids,\n",
    "        attention_mask=attention_mask,\n",
    "        max_new_tokens=max_new_tokens,\n",
    "        do_sample=True,\n",
    "        temperature=temperature,\n",
    "        top_p=top_p,\n",
    "        top_k=top_k,\n",
    "        pad_token_id=tokenizer.pad_token_id\n",
    "    )\n",
    "    \n",
    "    # Decode and remove prompt\n",
    "    generated_text = tokenizer.decode(output_ids[0], skip_special_tokens=True)\n",
    "    generated_selfies = generated_text[len(prompt):].strip()\n",
    "    \n",
    "    return generated_selfies"
   ]
  },
  {
   "cell_type": "code",
   "execution_count": 11,
   "id": "96be03f4",
   "metadata": {},
   "outputs": [
    {
     "name": "stdout",
     "output_type": "stream",
     "text": [
      "Generated molecule for low solubility: ch1_1] [C] [P] [Branch1_1] [=N] [Siexpl] [Branch1_1] [Ring1] [Seexpl] [Seexpl] [Teexpl] [Teexpl] [Seexpl] [Teexpl] [Ring1] [Branch1_2] [S] [Geexpl] [#S] [Ring1] [=N] [C] [=C] [C] [=C] [C] [=C] [C] [=C] [Ring1] [Branch1_2] [C] [C] [=C] [C] [=C] [C] [=C] [Ring1] [Branch1_2] [C] [Branch1_2] [C] [=O] [N] [C] [C]\n",
      "Generated molecule for high solubility: ] [Ring1] [Branch2_3] [S] [Seexpl] [Seexpl] [Seexpl] [Seexpl] [Seexpl] [PHexpl] [Ring1] [Branch1_1] [S] [Ring1] [Branch2_1] [S] [Ring1] [N] [C] [C] [C] [C] [Branch1_1] [C] [C] [C] [Branch1_1] [C] [C] [N] [C] [=C] [C] [=C] [C] [=C] [Ring1] [Branch1_2] [C] [C] [C] [C] [C] [C] [C]\n"
     ]
    }
   ],
   "source": [
    "# Example usage\n",
    "print(\"Generated molecule for low solubility:\", generate_molecule(\"low\"))\n",
    "print(\"Generated molecule for high solubility:\", generate_molecule(\"high\"))"
   ]
  },
  {
   "cell_type": "code",
   "execution_count": null,
   "id": "6cfad151",
   "metadata": {},
   "outputs": [],
   "source": []
  }
 ],
 "metadata": {
  "kernelspec": {
   "display_name": "base",
   "language": "python",
   "name": "base"
  },
  "language_info": {
   "codemirror_mode": {
    "name": "ipython",
    "version": 3
   },
   "file_extension": ".py",
   "mimetype": "text/x-python",
   "name": "python",
   "nbconvert_exporter": "python",
   "pygments_lexer": "ipython3",
   "version": "3.13.2"
  }
 },
 "nbformat": 4,
 "nbformat_minor": 5
}
