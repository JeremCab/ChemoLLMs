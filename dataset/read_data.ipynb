{
 "cells": [
  {
   "cell_type": "markdown",
   "id": "5b587420-9f4b-4432-b6ec-5be7e0c3d7c9",
   "metadata": {},
   "source": [
    "# Datasets"
   ]
  },
  {
   "cell_type": "markdown",
   "id": "ed60879f-0a19-45fd-a595-5dabebd26ac1",
   "metadata": {},
   "source": [
    "## Libraries"
   ]
  },
  {
   "cell_type": "code",
   "execution_count": 1,
   "id": "f106e72a-7274-427e-9907-9f60d4df4f9b",
   "metadata": {},
   "outputs": [],
   "source": [
    "import os\n",
    "import pandas as pd\n",
    "import pyarrow.parquet as pq"
   ]
  },
  {
   "cell_type": "markdown",
   "id": "01f39da4-e77f-44ca-b684-6b1dc85fea2f",
   "metadata": {},
   "source": [
    "## Global variables"
   ]
  },
  {
   "cell_type": "code",
   "execution_count": 2,
   "id": "12823b5c-7c73-4a73-b8ca-1ec9cb222d2f",
   "metadata": {},
   "outputs": [
    {
     "data": {
      "text/plain": [
       "'/lustre/fsstor/projects/rech/aik/uhr51mx/data/raw_data/multimodal_spectroscopic_dataset/aligned_chunk_97.parquet'"
      ]
     },
     "execution_count": 2,
     "metadata": {},
     "output_type": "execute_result"
    }
   ],
   "source": [
    "DATA_FOLDER = \"/lustre/fsstor/projects/rech/aik/uhr51mx/data\"\n",
    "DATA_SUBFOLDER = \"raw_data/multimodal_spectroscopic_dataset\"\n",
    "FILE = os.path.join(DATA_FOLDER, DATA_SUBFOLDER, \"aligned_chunk_97.parquet\")\n",
    "FILE"
   ]
  },
  {
   "cell_type": "markdown",
   "id": "470d2f18-5944-4613-908f-3e218e1abdb5",
   "metadata": {},
   "source": [
    "## Read data"
   ]
  },
  {
   "cell_type": "code",
   "execution_count": null,
   "id": "7fc26892-9048-4e68-8f3a-f164e85410b9",
   "metadata": {},
   "outputs": [],
   "source": [
    "data = pq.read_table(FILE)\n",
    "data_df = data.to_pandas()"
   ]
  },
  {
   "cell_type": "code",
   "execution_count": null,
   "id": "c2ae6afd-4b59-4f7a-9114-ddd4f12e464a",
   "metadata": {},
   "outputs": [],
   "source": [
    "data_df.head()"
   ]
  },
  {
   "cell_type": "code",
   "execution_count": null,
   "id": "5dcd0731-0586-41db-a9f9-c9b4a49f75a3",
   "metadata": {},
   "outputs": [],
   "source": []
  },
  {
   "cell_type": "code",
   "execution_count": null,
   "id": "cf2fa83e-0dd2-4307-9120-6afad7c0fcbf",
   "metadata": {},
   "outputs": [],
   "source": []
  }
 ],
 "metadata": {
  "kernelspec": {
   "display_name": "Python 3 (ipykernel)",
   "language": "python",
   "name": "python3"
  },
  "language_info": {
   "codemirror_mode": {
    "name": "ipython",
    "version": 3
   },
   "file_extension": ".py",
   "mimetype": "text/x-python",
   "name": "python",
   "nbconvert_exporter": "python",
   "pygments_lexer": "ipython3",
   "version": "3.12.0"
  }
 },
 "nbformat": 4,
 "nbformat_minor": 5
}
